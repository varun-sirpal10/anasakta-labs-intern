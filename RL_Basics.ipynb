{
 "cells": [
  {
   "cell_type": "markdown",
   "metadata": {},
   "source": [
    "## Reinforcement Learning Basics\n",
    "- Agent\n",
    "- Environment\n",
    "- Actions, Rewards, Observations"
   ]
  },
  {
   "cell_type": "code",
   "execution_count": 1,
   "metadata": {},
   "outputs": [],
   "source": [
    "import gym"
   ]
  },
  {
   "cell_type": "code",
   "execution_count": 2,
   "metadata": {},
   "outputs": [],
   "source": [
    "# Create environment\n",
    "env = gym.make('CartPole-v0')"
   ]
  },
  {
   "cell_type": "markdown",
   "metadata": {},
   "source": [
    "### Comes with certain important methods/attributes\n",
    "\n",
    "- action_space\n",
    "- observation_space\n",
    "- reset(): returns initial state and resets the environment\n",
    "- step()\n",
    "- render()"
   ]
  },
  {
   "cell_type": "code",
   "execution_count": 3,
   "metadata": {},
   "outputs": [
    {
     "data": {
      "text/plain": [
       "array([-0.01193333,  0.03063287, -0.01427765, -0.03022553])"
      ]
     },
     "execution_count": 3,
     "metadata": {},
     "output_type": "execute_result"
    }
   ],
   "source": [
    "env.reset()"
   ]
  },
  {
   "cell_type": "code",
   "execution_count": 10,
   "metadata": {},
   "outputs": [
    {
     "name": "stderr",
     "output_type": "stream",
     "text": [
      "C:\\Users\\Varun Sirpal\\Anaconda3\\lib\\site-packages\\gym\\logger.py:30: UserWarning: \u001b[33mWARN: You are calling 'step()' even though this environment has already returned done = True. You should always call 'reset()' once you receive 'done = True' -- any further steps are undefined behavior.\u001b[0m\n",
      "  warnings.warn(colorize('%s: %s'%('WARN', msg % args), 'yellow'))\n"
     ]
    }
   ],
   "source": [
    "for t in range(1000):\n",
    "    random_action = env.action_space.sample()\n",
    "    env.step(random_action) # randomly move left or right\n",
    "    env.render()\n",
    "    \n",
    "env.close()"
   ]
  },
  {
   "cell_type": "code",
   "execution_count": 4,
   "metadata": {},
   "outputs": [
    {
     "data": {
      "text/plain": [
       "Discrete(2)"
      ]
     },
     "execution_count": 4,
     "metadata": {},
     "output_type": "execute_result"
    }
   ],
   "source": [
    "env.action_space"
   ]
  },
  {
   "cell_type": "code",
   "execution_count": 5,
   "metadata": {},
   "outputs": [
    {
     "data": {
      "text/plain": [
       "2"
      ]
     },
     "execution_count": 5,
     "metadata": {},
     "output_type": "execute_result"
    }
   ],
   "source": [
    "env.action_space.n"
   ]
  },
  {
   "cell_type": "code",
   "execution_count": 6,
   "metadata": {},
   "outputs": [
    {
     "data": {
      "text/plain": [
       "Box(4,)"
      ]
     },
     "execution_count": 6,
     "metadata": {},
     "output_type": "execute_result"
    }
   ],
   "source": [
    "env.observation_space"
   ]
  },
  {
   "cell_type": "markdown",
   "metadata": {},
   "source": [
    "### Playing Games with a Random Strategy\n",
    "- Game Episode\n",
    "- Step() Function\n",
    "- Game Over\n",
    "\n",
    "\n",
    "### Step Function returns 4 things:\n",
    "- Observation (new state)\n",
    "- Reward\n",
    "- Done (whether game is over or not)\n",
    "- Info (Any extra information)"
   ]
  },
  {
   "cell_type": "code",
   "execution_count": 9,
   "metadata": {},
   "outputs": [
    {
     "name": "stdout",
     "output_type": "stream",
     "text": [
      "Game Episode: 1/20 Score: 20\n",
      "Game Episode: 2/20 Score: 17\n",
      "Game Episode: 3/20 Score: 36\n",
      "Game Episode: 4/20 Score: 28\n",
      "Game Episode: 5/20 Score: 16\n",
      "Game Episode: 6/20 Score: 14\n",
      "Game Episode: 7/20 Score: 13\n",
      "Game Episode: 8/20 Score: 17\n",
      "Game Episode: 9/20 Score: 12\n",
      "Game Episode: 10/20 Score: 16\n",
      "Game Episode: 11/20 Score: 15\n",
      "Game Episode: 12/20 Score: 18\n",
      "Game Episode: 13/20 Score: 18\n",
      "Game Episode: 15/20 Score: 15\n",
      "Game Episode: 16/20 Score: 13\n",
      "Game Episode: 17/20 Score: 16\n",
      "Game Episode: 18/20 Score: 49\n",
      "Game Episode: 19/20 Score: 26\n",
      "Game Episode: 20/20 Score: 18\n",
      "All 20 episodes over.\n"
     ]
    }
   ],
   "source": [
    "for e in range(20): # Episode\n",
    "    # Play 20 episodes\n",
    "    observation = env.reset()\n",
    "    for t in range(50): # 50 time steps\n",
    "        env.render()\n",
    "        action = env.action_space.sample()\n",
    "        observation,reward,done,other_info = env.step(action)\n",
    "        \n",
    "        if done: \n",
    "            print(\"Game Episode: {}/{} Score: {}\".format(e+1,20,t))\n",
    "            break\n",
    "\n",
    "env.close()\n",
    "print(\"All 20 episodes over.\")"
   ]
  },
  {
   "cell_type": "code",
   "execution_count": null,
   "metadata": {},
   "outputs": [],
   "source": []
  }
 ],
 "metadata": {
  "kernelspec": {
   "display_name": "Python 3",
   "language": "python",
   "name": "python3"
  },
  "language_info": {
   "codemirror_mode": {
    "name": "ipython",
    "version": 3
   },
   "file_extension": ".py",
   "mimetype": "text/x-python",
   "name": "python",
   "nbconvert_exporter": "python",
   "pygments_lexer": "ipython3",
   "version": "3.7.3"
  }
 },
 "nbformat": 4,
 "nbformat_minor": 2
}
